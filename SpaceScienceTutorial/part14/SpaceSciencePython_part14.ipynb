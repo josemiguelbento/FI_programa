{
 "cells": [
  {
   "cell_type": "code",
   "execution_count": 1,
   "metadata": {},
   "outputs": [],
   "source": [
    "# Import standard modules\n",
    "import datetime\n",
    "\n",
    "# Import installed modules\n",
    "import spiceypy\n",
    "import numpy as np\n",
    "\n",
    "# Load the SPICE kernel meta file\n",
    "spiceypy.furnsh('kernel_meta.txt')"
   ]
  },
  {
   "cell_type": "code",
   "execution_count": 2,
   "metadata": {},
   "outputs": [],
   "source": [
    "# Get the G*M value of the Sun\n",
    "_, GM_SUN_PRE = spiceypy.bodvcd(bodyid=10, item='GM', maxn=1)\n",
    "GM_SUN = GM_SUN_PRE[0]\n",
    "\n",
    "# Set the G*M value of Jupiter\n",
    "_, GM_JUPITER_PRE = spiceypy.bodvcd(bodyid=5, item='GM', maxn=1)\n",
    "GM_JUPITER = GM_JUPITER_PRE[0]"
   ]
  },
  {
   "cell_type": "code",
   "execution_count": 3,
   "metadata": {},
   "outputs": [
    {
     "name": "stdout",
     "output_type": "stream",
     "text": [
      "Semi-major axis of Jupiter in AU: 5.2097194462305065\n",
      "\n",
      "\n"
     ]
    }
   ],
   "source": [
    "# Set a sample Ephemeris Time to compute a sample Jupiter state vector and the\n",
    "# corresponding orbital elements\n",
    "sample_et = spiceypy.utc2et('2000-001T12:00:00')\n",
    "\n",
    "# Compute the state vector of Jupiter as seen from the Sun in ECLIPJ2000\n",
    "JUPITER_STATE, _ = spiceypy.spkgeo(targ=5, \\\n",
    "                                   et=sample_et, \\\n",
    "                                   ref='ECLIPJ2000', \\\n",
    "                                   obs=10)\n",
    "\n",
    "# Determine the corresponding orbital elements of Jupiter\n",
    "JUPITER_ORB_ELEM = spiceypy.oscltx(state=JUPITER_STATE, \\\n",
    "                                   et=sample_et, \\\n",
    "                                   mu=GM_SUN)\n",
    "\n",
    "# Extract the semi-major axis of Jupiter ...\n",
    "JUPITER_A = JUPITER_ORB_ELEM[-2]\n",
    "\n",
    "# ... and print the results in AU\n",
    "print('Semi-major axis of Jupiter in AU: ' \\\n",
    "      f'{spiceypy.convrt(JUPITER_A, inunit=\"km\", outunit=\"AU\")}')\n",
    "print('\\n')"
   ]
  },
  {
   "cell_type": "code",
   "execution_count": 4,
   "metadata": {},
   "outputs": [
    {
     "name": "stdout",
     "output_type": "stream",
     "text": [
      "SOI of Jupiter in AU: 0.32268429545253885\n",
      "\n",
      "\n"
     ]
    }
   ],
   "source": [
    "# Compute the SOI radius of Jupiter\n",
    "SOI_JUPITER_R = JUPITER_A * (GM_JUPITER/GM_SUN) ** (2.0/5.0) * 1\n",
    "\n",
    "# Print the SOI's radius\n",
    "print('SOI of Jupiter in AU: ' \\\n",
    "      f'{spiceypy.convrt(SOI_JUPITER_R, inunit=\"km\", outunit=\"AU\")}')\n",
    "print('\\n')"
   ]
  },
  {
   "cell_type": "code",
   "execution_count": 5,
   "metadata": {},
   "outputs": [],
   "source": [
    "# Compute the state vector and the corresponding orbital elements of 67P as\n",
    "# seen from the Sun\n",
    "\n",
    "# Create an ET (2004 day 1 is the minimum date-time in the corresponding SPICE\n",
    "# spk kernel)\n",
    "sample_et = spiceypy.utc2et('2004-001T00:00:00')\n",
    "\n",
    "# Compute the state vector of 67P ...\n",
    "COMET_67P_STATE, _ = spiceypy.spkgeo(targ=1000012, \\\n",
    "                                     et=sample_et, \\\n",
    "                                     ref='ECLIPJ2000', \\\n",
    "                                     obs=10)\n",
    "\n",
    "# ... and the corresponding orbital elements\n",
    "COMET_67P_ORB_ELEM = spiceypy.oscelt(state=COMET_67P_STATE, \\\n",
    "                                     et=sample_et, \\\n",
    "                                     mu=GM_SUN)"
   ]
  },
  {
   "cell_type": "code",
   "execution_count": 6,
   "metadata": {},
   "outputs": [],
   "source": [
    "# Now we want to determine when 67P enters the SOI of Jupiter. As a starting\n",
    "# date we set the 1st January 2017 and compute everything back in time\n",
    "datetime_stamp = datetime.datetime(year=2017, month=1, day=1)\n",
    "\n",
    "# Our computation will be performed within a while condition (to check whether\n",
    "# 67P entered the SOI or not); thus we need to set an initial value for the\n",
    "# while condition. Here: a very large distance between 67P and Jupiter\n",
    "comet_jup_dist = 10.0**10\n",
    "\n",
    "# While condition: Compute the following coding part as long as 67P did not\n",
    "# enter Jupiter's SOI\n",
    "while comet_jup_dist > SOI_JUPITER_R:\n",
    "\n",
    "    # Add one hour to the date-time stamp and convert it ot ET\n",
    "    datetime_stamp = datetime_stamp + datetime.timedelta(hours=1)\n",
    "    et_stamp = spiceypy.datetime2et(datetime_stamp)\n",
    "\n",
    "    # Compute the state vector of 67P based on the initial orbital elements\n",
    "    # (Sun-centric in ECLIPJ2000)\n",
    "    COMET_67P_STATE_ORB = spiceypy.conics(COMET_67P_ORB_ELEM, et_stamp)\n",
    "\n",
    "    # Compute Jupiter's state vector in as seen from the Sun\n",
    "    JUPITER_STATE, _ = spiceypy.spkgeo(targ=5, \\\n",
    "                                       et=et_stamp, \\\n",
    "                                       ref='ECLIPJ2000', \\\n",
    "                                       obs=10)\n",
    "\n",
    "    # Compute the distance between Jupiter and 67P\n",
    "    comet_jup_dist = spiceypy.vnorm(JUPITER_STATE[:3]-COMET_67P_STATE_ORB[:3])"
   ]
  },
  {
   "cell_type": "code",
   "execution_count": 7,
   "metadata": {},
   "outputs": [
    {
     "name": "stdout",
     "output_type": "stream",
     "text": [
      "67P entering Jupiter's SOI: 2018-05-20\n",
      "67P distance to Jupiter at SOI crossing in AU: 0.3226421083848195\n"
     ]
    }
   ],
   "source": [
    "# If the while condition is not fulfilled, 67P crosses Jupiter's SOI! Let's\n",
    "# take a look when this happened and also let's verify the distance to\n",
    "# Jupiter:\n",
    "print(f'67P entering Jupiter\\'s SOI: {datetime_stamp.strftime(\"%Y-%m-%d\")}')\n",
    "print('67P distance to Jupiter at SOI crossing in AU: ' \\\n",
    "      f'{spiceypy.convrt(comet_jup_dist, inunit=\"km\", outunit=\"AU\")}')"
   ]
  },
  {
   "cell_type": "code",
   "execution_count": 8,
   "metadata": {},
   "outputs": [],
   "source": [
    "# Transform the state vector of 67P from a Sun-centric system to a Jupiter-\n",
    "# centric system ...\n",
    "COMET_67P_STATE_JUP_CNTR = COMET_67P_STATE_ORB - JUPITER_STATE\n",
    "\n",
    "# ... and compute the corresponding orbital elements. This time, we need the\n",
    "# G*M value of Jupiter!\n",
    "COMET_67P_ORB_ELEM_JUP_CNTR = spiceypy.oscelt(state=COMET_67P_STATE_JUP_CNTR, \\\n",
    "                                              et=et_stamp, \\\n",
    "                                              mu=GM_JUPITER)"
   ]
  },
  {
   "cell_type": "code",
   "execution_count": 9,
   "metadata": {},
   "outputs": [
    {
     "name": "stdout",
     "output_type": "stream",
     "text": [
      "Closest distance between 67P and Jupiter in km: 41512816.418108694\n",
      "Closest distance between 67P and Jupiter in SOI radius percentage: 86.0\n",
      "67P's eccentricity in a Jupiter-centric system: 8.642146316093086\n",
      "\n",
      "\n"
     ]
    }
   ],
   "source": [
    "# Let's take a look at the perijove. This will tell us at what distance\n",
    "# 67P will have it's closes encounter with Jupiter\n",
    "print('Closest distance between 67P and Jupiter in km: ' \\\n",
    "      f'{COMET_67P_ORB_ELEM_JUP_CNTR[0]}')\n",
    "\n",
    "print('Closest distance between 67P and Jupiter in SOI radius percentage: ' \\\n",
    "      f'{round(COMET_67P_ORB_ELEM_JUP_CNTR[0] / SOI_JUPITER_R, 2) * 100}')\n",
    "\n",
    "# Not surprisingly, 67P is not bound to Jupiter. The eccentricity in this\n",
    "# Jupiter-centric computation is larger than 1:\n",
    "print('67P\\'s eccentricity in a Jupiter-centric system: ' \\\n",
    "      f'{COMET_67P_ORB_ELEM_JUP_CNTR[1]}')\n",
    "print('\\n')"
   ]
  },
  {
   "cell_type": "code",
   "execution_count": 10,
   "metadata": {},
   "outputs": [],
   "source": [
    "# In an additional while condition we compute the trajectory of 67P within\n",
    "# Jupiter's SOI until it reaches, again, the SOI border\n",
    "while comet_jup_dist <= SOI_JUPITER_R:\n",
    "\n",
    "    # Add one hour to the ET from the last while condition and convert it to\n",
    "    # ET\n",
    "    datetime_stamp = datetime_stamp + datetime.timedelta(hours=1)\n",
    "    et_stamp = spiceypy.datetime2et(datetime_stamp)\n",
    "\n",
    "    # Compute an ET corresponding Jupiter-centric state vector of 67P\n",
    "    comet_67p_state_orb_jup_cntr = \\\n",
    "        spiceypy.conics(COMET_67P_ORB_ELEM_JUP_CNTR, et_stamp)\n",
    "\n",
    "    # Since we compute everything in a Jupiter-centric system, the norm of the\n",
    "    # state vector is also the distance to Jupiter\n",
    "    comet_jup_dist = spiceypy.vnorm(comet_67p_state_orb_jup_cntr[:3])"
   ]
  },
  {
   "cell_type": "code",
   "execution_count": 11,
   "metadata": {},
   "outputs": [
    {
     "name": "stdout",
     "output_type": "stream",
     "text": [
      "67P leaving Jupiter's SOI: 2018-09-09\n"
     ]
    }
   ],
   "source": [
    "# When did 67P leave the SOI?\n",
    "print(f'67P leaving Jupiter\\'s SOI: {datetime_stamp.strftime(\"%Y-%m-%d\")}')"
   ]
  },
  {
   "cell_type": "code",
   "execution_count": 12,
   "metadata": {},
   "outputs": [],
   "source": [
    "# Now we need to re-transform the Jupiter centric state vector back to a Sun-\n",
    "# centric one. First, compute the state vector of Jupiter as seen form the Sun\n",
    "# at the time when 67P leaves the SOI of Jupiter:\n",
    "JUPITER_STATE, _ = spiceypy.spkgeo(targ=5, et=et_stamp, ref='ECLIPJ2000', \\\n",
    "                                   obs=10)\n",
    "\n",
    "# A simple vector addition leads to a Sun-centric 67P state vector\n",
    "COMET_67P_STATE_ORB_AFTER = comet_67p_state_orb_jup_cntr + JUPITER_STATE"
   ]
  },
  {
   "cell_type": "code",
   "execution_count": 13,
   "metadata": {},
   "outputs": [],
   "source": [
    "# And now we can compute the state vector after the close encounter with\n",
    "# Jupiter:\n",
    "COMET_67P_ORB_ELEM_AFTER = spiceypy.oscelt(state=COMET_67P_STATE_ORB_AFTER, \\\n",
    "                                           et=et_stamp, mu=GM_SUN)"
   ]
  },
  {
   "cell_type": "code",
   "execution_count": 14,
   "metadata": {},
   "outputs": [
    {
     "name": "stdout",
     "output_type": "stream",
     "text": [
      "Perihelion in AU before: 1.29, after: 1.22\n",
      "Eccentricity before: 0.6318, after: 0.6463\n",
      "Inclination in degrees before: 7.12, after: 5.52\n",
      "Longitude of ascending node in degrees before: 50.93, after: 49.88\n",
      "Argument of perihelion in degrees before: 11.41, after: 9.28\n"
     ]
    }
   ],
   "source": [
    "# Finally, let's plot the differences between the \"old\" and \"new\" orbital\n",
    "# elements\n",
    "print('Perihelion in AU '\\\n",
    "      'before: ' \\\n",
    "      f'{round(spiceypy.convrt(COMET_67P_ORB_ELEM[0], \"km\", \"AU\"), 2)}, ' \\\n",
    "      'after: ' \\\n",
    "      f'{round(spiceypy.convrt(COMET_67P_ORB_ELEM_AFTER[0], \"km\", \"AU\"), 2)}')\n",
    "\n",
    "print('Eccentricity '\\\n",
    "      'before: ' \\\n",
    "      f'{round(COMET_67P_ORB_ELEM[1], 4)}, ' \\\n",
    "      'after: ' \\\n",
    "      f'{round(COMET_67P_ORB_ELEM_AFTER[1], 4)}')\n",
    "\n",
    "print('Inclination in degrees '\\\n",
    "      'before: ' \\\n",
    "      f'{round(np.degrees(COMET_67P_ORB_ELEM[2]), 2)}, ' \\\n",
    "      'after: ' \\\n",
    "      f'{round(np.degrees(COMET_67P_ORB_ELEM_AFTER[2]), 2)}')\n",
    "\n",
    "print('Longitude of ascending node in degrees '\\\n",
    "      'before: ' \\\n",
    "      f'{round(np.degrees(COMET_67P_ORB_ELEM[3]), 2)}, ' \\\n",
    "      'after: ' \\\n",
    "      f'{round(np.degrees(COMET_67P_ORB_ELEM_AFTER[3]), 2)}')\n",
    "\n",
    "print('Argument of perihelion in degrees '\\\n",
    "      'before: ' \\\n",
    "      f'{round(np.degrees(COMET_67P_ORB_ELEM[4]), 2)}, ' \\\n",
    "      'after: ' \\\n",
    "      f'{round(np.degrees(COMET_67P_ORB_ELEM_AFTER[4]), 2)}')"
   ]
  }
 ],
 "metadata": {
  "kernelspec": {
   "display_name": "Python 3",
   "language": "python",
   "name": "python3"
  },
  "language_info": {
   "codemirror_mode": {
    "name": "ipython",
    "version": 3
   },
   "file_extension": ".py",
   "mimetype": "text/x-python",
   "name": "python",
   "nbconvert_exporter": "python",
   "pygments_lexer": "ipython3",
   "version": "3.8.2"
  }
 },
 "nbformat": 4,
 "nbformat_minor": 4
}
