{
 "cells": [
  {
   "cell_type": "code",
   "execution_count": 1,
   "metadata": {},
   "outputs": [],
   "source": [
    "# Import standard modules\n",
    "import sqlite3\n",
    "from datetime import datetime, timedelta\n",
    "\n",
    "# Import installed modules\n",
    "import spiceypy\n",
    "import numpy as np\n",
    "import pandas as pd"
   ]
  },
  {
   "cell_type": "code",
   "execution_count": 2,
   "metadata": {},
   "outputs": [],
   "source": [
    "# Load the SPICE kernel meta file\n",
    "spiceypy.furnsh('kernel_meta.txt')"
   ]
  },
  {
   "cell_type": "code",
   "execution_count": 3,
   "metadata": {},
   "outputs": [],
   "source": [
    "# Get the G*M value of the Sun\n",
    "_, GM_SUN_PRE = spiceypy.bodvcd(bodyid=10, item='GM', maxn=1)\n",
    "GM_SUN = GM_SUN_PRE[0]"
   ]
  },
  {
   "cell_type": "code",
   "execution_count": 4,
   "metadata": {},
   "outputs": [],
   "source": [
    "# Connect to the comet database\n",
    "CON = sqlite3.connect('../_databases/_comets/mpc_comets.db')\n",
    "\n",
    "# Extract orbit data of the comet C/2019 Y4 (ATLAS)\n",
    "ATLAS_ORB_EL = pd.read_sql('SELECT NAME, PERIHELION_AU, ' \\\n",
    "                           'ECCENTRICITY, INCLINATION_DEG, ' \\\n",
    "                           'LONG_OF_ASC_NODE_DEG, ARG_OF_PERIH_DEG, ' \\\n",
    "                           'MEAN_ANOMALY_DEG, EPOCH_ET ' \\\n",
    "                           'FROM comets_main ' \\\n",
    "                           'WHERE NAME=\"C/2019 Y4 (ATLAS)\"', CON)\n",
    "\n",
    "# Convert the perihelion, that is given in AU, to km\n",
    "ATLAS_ORB_EL.loc[:, 'PERIHELION_KM'] =  \\\n",
    "    ATLAS_ORB_EL['PERIHELION_AU'].apply(lambda x: \\\n",
    "                                        spiceypy.convrt(x, inunit='AU', \\\n",
    "                                                        outunit='km'))\n",
    "\n",
    "# Convert all angular parameters to radians, since the entries in the database\n",
    "# are stored in degrees. The for-loop iterates through all column names that\n",
    "# contain the word \"DEG\"\n",
    "for angle_col_name in [col for col in ATLAS_ORB_EL.columns if 'DEG' in col]:\n",
    "    ATLAS_ORB_EL.loc[:, angle_col_name.replace('DEG', 'RAD')] = \\\n",
    "        np.radians(ATLAS_ORB_EL[angle_col_name])\n",
    "\n",
    "# Add the G*M value of the Sun\n",
    "ATLAS_ORB_EL.loc[:, 'SUN_GM'] = GM_SUN"
   ]
  },
  {
   "cell_type": "code",
   "execution_count": 5,
   "metadata": {},
   "outputs": [],
   "source": [
    "# Extract all orbital elements / information in a SPICE compatible order (see\n",
    "# function conics)\n",
    "ATLAS_SPICE_ORB_EL = ATLAS_ORB_EL[['PERIHELION_KM', 'ECCENTRICITY', \\\n",
    "                                   'INCLINATION_RAD', 'LONG_OF_ASC_NODE_RAD', \\\n",
    "                                   'ARG_OF_PERIH_RAD', 'MEAN_ANOMALY_DEG', \\\n",
    "                                   'EPOCH_ET', 'SUN_GM']].iloc[0].values"
   ]
  },
  {
   "cell_type": "code",
   "execution_count": 6,
   "metadata": {},
   "outputs": [],
   "source": [
    "# Set an initial time and end time for the computation procedure\n",
    "INI_DATETIME = datetime(year=2020, month=5, day=20)\n",
    "END_DATETIME = datetime(year=2020, month=6, day=10)\n",
    "\n",
    "# Create an array that covers the initial and end time in 1 hour steps\n",
    "TIME_ARRAY = np.arange(INI_DATETIME, END_DATETIME, \\\n",
    "                       timedelta(hours=1)).astype(datetime)"
   ]
  },
  {
   "cell_type": "code",
   "execution_count": 7,
   "metadata": {},
   "outputs": [],
   "source": [
    "# Set an empty array that will store the distances between the Sun\n",
    "# and ATLAS\n",
    "atlas_vecs = []\n",
    "\n",
    "# Set an empty array that will store the distances between the Sun\n",
    "# and the Solar Orbiter\n",
    "solar_orb_vecs = []\n",
    "\n",
    "# Iterate through the time array (comet ATLAS)\n",
    "for atlas_time_step in TIME_ARRAY:\n",
    "\n",
    "    # Compute the ET\n",
    "    atlas_et = spiceypy.datetime2et(atlas_time_step)\n",
    "\n",
    "    # Compute the ET corresponding state vector of the comet ATLAS\n",
    "    atlas_state_vec = spiceypy.conics(ATLAS_SPICE_ORB_EL, atlas_et)\n",
    "\n",
    "    # Store the position vector\n",
    "    atlas_vecs.append(atlas_state_vec[:3])\n",
    "\n",
    "# Iterate through the time array (Solar Orbiter)\n",
    "for so_time_step in TIME_ARRAY:\n",
    "\n",
    "    # Compute the ET\n",
    "    so_et = spiceypy.datetime2et(so_time_step)\n",
    "\n",
    "    # Compute the state vector of the Solar Orbiter (NAIF ID: -144)\n",
    "    solar_orb_state_vec, _ = spiceypy.spkgeo(targ=-144, et=so_et, \\\n",
    "                                         ref='ECLIPJ2000', obs=10)\n",
    "\n",
    "    # Store the position vector\n",
    "    solar_orb_vecs.append(solar_orb_state_vec[:3])\n",
    "\n",
    "# Convert the lists that contain the vectors to numpy lists\n",
    "atlas_vecs = np.array(atlas_vecs)\n",
    "solar_orb_vecs = np.array(solar_orb_vecs)"
   ]
  },
  {
   "cell_type": "code",
   "execution_count": 8,
   "metadata": {},
   "outputs": [
    {
     "name": "stdout",
     "output_type": "stream",
     "text": [
      "Minimum distance ATLAS - Sun in AU: 0.25281227838079623\n",
      "Minimum distance Solar Orbiter - Sun in AU: 0.5208229568917663\n",
      "\n",
      "\n"
     ]
    }
   ],
   "source": [
    "# Minimum distance ATLAS - Sun\n",
    "MIN_DIST_ATLAS_SUN = np.min(np.linalg.norm(atlas_vecs, axis=1))\n",
    "print('Minimum distance ATLAS - Sun in AU: ' \\\n",
    "      f'{spiceypy.convrt(MIN_DIST_ATLAS_SUN, \"km\", \"AU\")}')\n",
    "\n",
    "# Minimum distance Solar Orbiter - Sun\n",
    "MIN_DIST_SOLAR_ORB_SUN = np.min(np.linalg.norm(solar_orb_vecs, axis=1))\n",
    "print('Minimum distance Solar Orbiter - Sun in AU: ' \\\n",
    "      f'{spiceypy.convrt(MIN_DIST_SOLAR_ORB_SUN, \"km\", \"AU\")}')\n",
    "print('\\n')"
   ]
  },
  {
   "cell_type": "code",
   "execution_count": 9,
   "metadata": {},
   "outputs": [
    {
     "name": "stdout",
     "output_type": "stream",
     "text": [
      "Minimum distance between ATLAS and Solar Orbiter in km: 40330530.0\n",
      "\n",
      "\n"
     ]
    }
   ],
   "source": [
    "# What is the closest approach between both trajectories?\n",
    "# Compute a matrix that contains all possible distances, using the scipy\n",
    "# function cdist\n",
    "import scipy.spatial\n",
    "MIN_DIST_MATRIX = scipy.spatial.distance.cdist(atlas_vecs, solar_orb_vecs)\n",
    "\n",
    "# Print the minimum distance\n",
    "print('Minimum distance between ATLAS and Solar Orbiter in km: ' \\\n",
    "      f'{np.min(np.round(MIN_DIST_MATRIX))}')\n",
    "print('\\n')"
   ]
  },
  {
   "cell_type": "code",
   "execution_count": 10,
   "metadata": {},
   "outputs": [
    {
     "name": "stdout",
     "output_type": "stream",
     "text": [
      "ATLAS Index of close approach: 292\n",
      "Solar Orbiter Index of close approach: 503\n",
      "\n",
      "\n"
     ]
    }
   ],
   "source": [
    "# The timing needs to be correct too! The comet produces ions and creates\n",
    "# its tail within the spacecraft's trajectory. Thus, the comet needs to pass\n",
    "# by the minimum distance first\n",
    "\n",
    "# Determine the distance matrix indices of the closest approach\n",
    "indices_min = np.where(MIN_DIST_MATRIX == np.min(MIN_DIST_MATRIX))\n",
    "indices_min = [k.item() for k in indices_min]\n",
    "\n",
    "# Let's print the indices for\n",
    "# ATLAS\n",
    "print(f'ATLAS Index of close approach: {indices_min[0]}')\n",
    "\n",
    "# Solar Orbiter\n",
    "print(f'Solar Orbiter Index of close approach: {indices_min[1]}')\n",
    "print('\\n')"
   ]
  },
  {
   "cell_type": "code",
   "execution_count": 11,
   "metadata": {},
   "outputs": [
    {
     "name": "stdout",
     "output_type": "stream",
     "text": [
      "ATLAS closest approach date-time: 2020-06-01 04:00:00\n",
      "Solar Orbiter closest approach date-time: 2020-06-09 23:00:00\n",
      "\n",
      "\n"
     ]
    }
   ],
   "source": [
    "# Corresponding times (only a few days apart. Thus, an ion tail could be\n",
    "# detectable)\n",
    "print(f'ATLAS closest approach date-time: {TIME_ARRAY[indices_min[0]]}')\n",
    "print('Solar Orbiter closest approach date-time: ' \\\n",
    "      f'{TIME_ARRAY[indices_min[1]]}')\n",
    "print('\\n')"
   ]
  },
  {
   "cell_type": "code",
   "execution_count": 12,
   "metadata": {},
   "outputs": [
    {
     "name": "stdout",
     "output_type": "stream",
     "text": [
      "Minimum angular distance between a possible ion tail and the Solar Orbiter's trajectory in degrees: 7.74\n"
     ]
    }
   ],
   "source": [
    "# ... but is the ion tail \"aiming\" towards the trajectory of the spacecraft?\n",
    "# (at least within a few degrees?)\n",
    "# Compute the angular distance between the trajectories' closest approach\n",
    "\n",
    "# Set the closest approach vectors, based on the obtained indices for ATLAS and\n",
    "# the Solar Orbiter, respectively\n",
    "VEC_ATLAS_AP = atlas_vecs[indices_min[0]]\n",
    "VEC_SOLAR_ORB_AP = solar_orb_vecs[indices_min[1]]\n",
    "\n",
    "# Determine the norm of both closest approach vectors\n",
    "ATLAS_NORM_AP = spiceypy.vnorm(VEC_ATLAS_AP)\n",
    "SOLORB_NORM_AP = spiceypy.vnorm(VEC_SOLAR_ORB_AP)\n",
    "\n",
    "# Compute the dot product\n",
    "DOT_PRODUCT_AP = np.dot(VEC_ATLAS_AP, VEC_SOLAR_ORB_AP)\n",
    "\n",
    "# Compute the angle\n",
    "ANGULAR_DIST_AP = np.degrees(np.arccos((DOT_PRODUCT_AP) \\\n",
    "                                       / (ATLAS_NORM_AP * SOLORB_NORM_AP)))\n",
    "\n",
    "# Print the angular distance between ATLAS' ion tail direction and the position\n",
    "# vector of the spacecraft at the closest approach\n",
    "print('Minimum angular distance between a possible ion tail and the ' \\\n",
    "      'Solar Orbiter\\'s trajectory in degrees: ' \\\n",
    "      f'{np.round(ANGULAR_DIST_AP, 2)}')"
   ]
  }
 ],
 "metadata": {
  "kernelspec": {
   "display_name": "Python 3",
   "language": "python",
   "name": "python3"
  },
  "language_info": {
   "codemirror_mode": {
    "name": "ipython",
    "version": 3
   },
   "file_extension": ".py",
   "mimetype": "text/x-python",
   "name": "python",
   "nbconvert_exporter": "python",
   "pygments_lexer": "ipython3",
   "version": "3.8.2"
  }
 },
 "nbformat": 4,
 "nbformat_minor": 4
}
