{
 "cells": [
  {
   "cell_type": "code",
   "execution_count": 1,
   "metadata": {},
   "outputs": [],
   "source": [
    "# Import installed modules\n",
    "import pandas as pd\n",
    "import numpy as  np\n",
    "import imageio\n",
    "from tqdm import tqdm\n",
    "\n",
    "# Import the Python script func from the auxiliary folder\n",
    "import sys\n",
    "sys.path.insert(1, '../_auxiliary')\n",
    "import func"
   ]
  },
  {
   "cell_type": "code",
   "execution_count": 2,
   "metadata": {},
   "outputs": [],
   "source": [
    "# Set a local download path and the URL to the 67P shape model data set\n",
    "DL_PATH = 'data/'\n",
    "DL_URL = 'https://repos.cosmos.esa.int/socci/projects/SPICE_KERNELS/repos/rosetta/raw/kernels/' \\\n",
    "          + 'dsk/ROS_CG_M001_OSPCLPS_N_V1.OBJ'\n",
    "\n",
    "# Download the shape model, create (if needed) the download path and store the data set\n",
    "func.download_file(DL_PATH, DL_URL)"
   ]
  },
  {
   "cell_type": "code",
   "execution_count": 3,
   "metadata": {},
   "outputs": [
    {
     "name": "stdout",
     "output_type": "stream",
     "text": [
      "Some statistics and parameters of the shape model\n",
      "Rows and columns of the data set: (1791747, 4)\n",
      "Number of vertices: 597251\n",
      "Number of faces: 1194496\n",
      "\n",
      "\n"
     ]
    }
   ],
   "source": [
    "# Load the shape model. The first column lists whether the row is a vertex or face. The second,\n",
    "# third and fourth column list the coordiantes (vertex) and vertex indices (faces)\n",
    "COMET_67P_SHAPE_OBJ = pd.read_csv('data/ROS_CG_M001_OSPCLPS_N_V1.OBJ', delim_whitespace=True, \\\n",
    "                                  names=['TYPE', 'X1', 'X2', 'X3'])\n",
    "\n",
    "# Print some shape model information\n",
    "print('Some statistics and parameters of the shape model')\n",
    "print(f'Rows and columns of the data set: {COMET_67P_SHAPE_OBJ.shape}')\n",
    "print(f'Number of vertices: {COMET_67P_SHAPE_OBJ.loc[COMET_67P_SHAPE_OBJ[\"TYPE\"]==\"v\"].shape[0]}')\n",
    "print(f'Number of faces: {COMET_67P_SHAPE_OBJ.loc[COMET_67P_SHAPE_OBJ[\"TYPE\"]==\"f\"].shape[0]}')\n",
    "print('\\n')"
   ]
  },
  {
   "cell_type": "code",
   "execution_count": 4,
   "metadata": {},
   "outputs": [
    {
     "name": "stdout",
     "output_type": "stream",
     "text": [
      "Vertices (Sample)\n",
      "  TYPE        X1        X2        X3\n",
      "0    v  0.570832 -1.000444  0.532569\n",
      "1    v  0.564360 -1.000224  0.525360\n",
      "2    v  0.557853 -0.997863  0.520762\n",
      "3    v  0.553592 -0.998414  0.512192\n",
      "4    v  0.550212 -0.992514  0.507304\n",
      "Faces (Sample)\n",
      "       TYPE      X1      X2      X3\n",
      "597251    f   474.0   522.0   305.0\n",
      "597252    f   474.0   719.0   522.0\n",
      "597253    f  1961.0  2160.0  1651.0\n",
      "597254    f  1961.0  2159.0  2160.0\n",
      "597255    f  5513.0  5668.0  5285.0\n",
      "\n",
      "\n"
     ]
    }
   ],
   "source": [
    "# Print some examplarily extractions from the vertex and face sub set\n",
    "print('Vertices (Sample)')\n",
    "print(f'{COMET_67P_SHAPE_OBJ.loc[COMET_67P_SHAPE_OBJ[\"TYPE\"]==\"v\"].head()}')\n",
    "print('Faces (Sample)')\n",
    "print(f'{COMET_67P_SHAPE_OBJ.loc[COMET_67P_SHAPE_OBJ[\"TYPE\"]==\"f\"].head()}')\n",
    "print('\\n')"
   ]
  },
  {
   "cell_type": "code",
   "execution_count": 5,
   "metadata": {},
   "outputs": [],
   "source": [
    "# Assign the VERTICES and faces\n",
    "VERTICES = COMET_67P_SHAPE_OBJ.loc[COMET_67P_SHAPE_OBJ['TYPE'] == 'v'][['X1', 'X2', 'X3']].values \\\n",
    "               .tolist()\n",
    "faces = COMET_67P_SHAPE_OBJ.loc[COMET_67P_SHAPE_OBJ['TYPE'] == 'f'][['X1', 'X2', 'X3']].values"
   ]
  },
  {
   "cell_type": "code",
   "execution_count": 6,
   "metadata": {},
   "outputs": [
    {
     "name": "stdout",
     "output_type": "stream",
     "text": [
      "Minimum vertex index in faces: 1.0\n",
      "Maximum vertex index in faces: 597251.0\n",
      "\n",
      "\n"
     ]
    }
   ],
   "source": [
    "# Print the minimum and maximum vertex indices in the face sub set\n",
    "print(f'Minimum vertex index in faces: {np.min(faces)}')\n",
    "print(f'Maximum vertex index in faces: {np.max(faces)}')\n",
    "print('\\n')"
   ]
  },
  {
   "cell_type": "code",
   "execution_count": 7,
   "metadata": {},
   "outputs": [],
   "source": [
    "# The index in the faces sub set starts at 1. For Python, it needs to start at 0.\n",
    "faces = faces - 1\n",
    "\n",
    "# Convert the indices to integer\n",
    "faces = faces.astype(int)\n",
    "\n",
    "# Convert the numpy array to a Python list\n",
    "faces = faces.tolist()"
   ]
  },
  {
   "cell_type": "code",
   "execution_count": 8,
   "metadata": {},
   "outputs": [],
   "source": [
    "# Now we need to define a main window class that is needed to set a window size / resolution.\n",
    "# Based on the QT4 example:\n",
    "# https://github.com/almarklein/visvis/blob/master/examples/embeddingInQt4.py\n",
    "from PyQt5.QtWidgets import QWidget, QHBoxLayout\n",
    "\n",
    "# Import visvis\n",
    "import visvis as vv\n",
    "\n",
    "# Define the class\n",
    "class MainWindow(QWidget):\n",
    "    def __init__(self, *args):\n",
    "        QWidget.__init__(self, *args)\n",
    "        self.fig = vv.backends.backend_pyqt5.Figure(self)\n",
    "        self.sizer = QHBoxLayout(self)\n",
    "        self.sizer.addWidget(self.fig._widget)\n",
    "        self.setLayout(self.sizer)\n",
    "        self.setWindowTitle('Rosetta')\n",
    "        self.show()"
   ]
  },
  {
   "cell_type": "code",
   "execution_count": 9,
   "metadata": {},
   "outputs": [],
   "source": [
    "# Create visvis application\n",
    "app = vv.use()\n",
    "app.Create()\n",
    "\n",
    "# Create main window frame and set a resolution.\n",
    "main_w = MainWindow()\n",
    "main_w.resize(1200, 800)\n",
    "\n",
    "# Create the 3 D shape model as a mesh. verticesPerFace equals 3 since triangles define the\n",
    "# mesh's surface in this case\n",
    "vv.mesh(vertices=VERTICES, faces=faces, verticesPerFace=3)\n",
    "\n",
    "# Get axes objects\n",
    "axes = vv.gca()\n",
    "\n",
    "# Set a black background\n",
    "axes.bgcolor = 'black'\n",
    "\n",
    "# Deactivate the grid and make the x, y, z axes invisible\n",
    "axes.axis.showGrid = False\n",
    "axes.axis.visible = False\n",
    "\n",
    "# Set some camera settings\n",
    "# Please note: if you want to \"fly\" arond the comet with w, a, s, d (translation) and i, j, k, l\n",
    "# (tilt) replace '3d' with 'fly'\n",
    "axes.camera = '3d'\n",
    "\n",
    "# Field of view in degrees\n",
    "axes.camera.fov = 60\n",
    "\n",
    "# Set default azmiuth and elevation angle in degrees\n",
    "axes.camera.azimuth = 120\n",
    "axes.camera.elevation = 25\n",
    "\n",
    "# ... and run the application!\n",
    "app.Run()"
   ]
  },
  {
   "cell_type": "code",
   "execution_count": 10,
   "metadata": {},
   "outputs": [
    {
     "name": "stderr",
     "output_type": "stream",
     "text": [
      "100%|██████████| 300/300 [00:10<00:00, 27.90it/s]\n"
     ]
    }
   ],
   "source": [
    "# Now let's create an animation\n",
    "\n",
    "# Create visvis application\n",
    "app = vv.use()\n",
    "app.Create()\n",
    "\n",
    "# Create main window frame and set a resolution.\n",
    "main_w = MainWindow()\n",
    "main_w.resize(500, 400)\n",
    "\n",
    "# Create the 3 D shape model as a mesh. verticesPerFace equals 3 since triangles define the\n",
    "# mesh's surface in this case\n",
    "shape_obj = vv.mesh(vertices=VERTICES, faces=faces, verticesPerFace=3)\n",
    "shape_obj.specular = 0.0\n",
    "shape_obj.diffuse = 0.9\n",
    "\n",
    "# Get figure\n",
    "figure = vv.gcf()\n",
    "\n",
    "# Get axes objects and set figure parameters\n",
    "axes = vv.gca()\n",
    "axes.bgcolor = (0, 0, 0)\n",
    "axes.axis.showGrid = False\n",
    "axes.axis.visible = False\n",
    "\n",
    "# Set camera settings\n",
    "#\n",
    "axes.camera = '3d'\n",
    "axes.camera.fov = 60\n",
    "axes.camera.zoom = 0.1\n",
    "\n",
    "# Turn off the main light\n",
    "axes.light0.Off()\n",
    "\n",
    "# Create a fixed light source\n",
    "light_obj = axes.lights[1]\n",
    "light_obj.On()\n",
    "light_obj.position = (5.0, 5.0, 5.0, 0.0)\n",
    "\n",
    "# Empty array that contains all images of the comet's rotation\n",
    "comet_images = []\n",
    "\n",
    "# Rotate camera in 300 steps in azimuth\n",
    "for azm_angle in tqdm(range(300)):\n",
    "\n",
    "    # Change azimuth angle of the camera\n",
    "    axes.camera.azimuth = 360 * float(azm_angle) / 300\n",
    "\n",
    "    # Draw the axes and figure\n",
    "    axes.Draw()\n",
    "    figure.DrawNow()\n",
    "\n",
    "    # Get the current image\n",
    "    temp_image = vv.getframe(vv.gca())\n",
    "\n",
    "    # Apped the current image in 8 bit integer\n",
    "    comet_images.append((temp_image*255).astype(np.uint8))\n",
    "\n",
    "# Save the images as an animated GIF\n",
    "imageio.mimsave('Comet67P.gif', comet_images, duration=0.04)"
   ]
  }
 ],
 "metadata": {
  "kernelspec": {
   "display_name": "Python 3",
   "language": "python",
   "name": "python3"
  },
  "language_info": {
   "codemirror_mode": {
    "name": "ipython",
    "version": 3
   },
   "file_extension": ".py",
   "mimetype": "text/x-python",
   "name": "python",
   "nbconvert_exporter": "python",
   "pygments_lexer": "ipython3",
   "version": "3.8.2"
  }
 },
 "nbformat": 4,
 "nbformat_minor": 4
}
