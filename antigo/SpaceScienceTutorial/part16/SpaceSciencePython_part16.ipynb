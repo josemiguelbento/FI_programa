{
 "cells": [
  {
   "cell_type": "code",
   "execution_count": 1,
   "metadata": {},
   "outputs": [],
   "source": [
    "# Import modules\n",
    "import pandas as pd\n",
    "import numpy as np\n",
    "\n",
    "# Create an empty dataframe lookup table\n",
    "mag_lookup_df = pd.DataFrame([])"
   ]
  },
  {
   "cell_type": "code",
   "execution_count": 2,
   "metadata": {},
   "outputs": [],
   "source": [
    "# Function that converts magnitude to irradiance in W/m^2\n",
    "def mag2irr(mag, use_attn=False):\n",
    "    \"\"\"\n",
    "    This function converts the apparent magnitude to the corresponding\n",
    "    irradiance value given in [W/m^2].\n",
    "\n",
    "    Parameters\n",
    "    ----------\n",
    "    mag : float\n",
    "        The astronomical magnitude.\n",
    "    use_attn : bool, optional\n",
    "        Boolean value. If True, a constant factor will be applied that\n",
    "        represents a simple atmospheric attenuation. The default is False.\n",
    "\n",
    "    Returns\n",
    "    -------\n",
    "    irr : float\n",
    "        The resulting irradiance given in [W/m^2].\n",
    "    \"\"\"\n",
    "\n",
    "    # If the user wants the atmospheric attenuation, a constant value of 0.4\n",
    "    # is set ...\n",
    "    if use_attn:\n",
    "        attn = 0.4\n",
    "\n",
    "    # ... otherwise a value of 0 is set\n",
    "    else:\n",
    "        attn = 0.0\n",
    "\n",
    "    # Compute the irradiance\n",
    "    irr = 10.0 ** (0.4 * (-mag - 19.0 + attn))\n",
    "\n",
    "    # Return the irradiance\n",
    "    return irr"
   ]
  },
  {
   "cell_type": "code",
   "execution_count": 3,
   "metadata": {},
   "outputs": [],
   "source": [
    "# Function that converts the irradiance to power given in W\n",
    "def irr2pwr(irr, area):\n",
    "    \"\"\"\n",
    "    This function converts the irradiance given in [W/m^2] to the power [W]\n",
    "    for a user defined area given in [m^2]\n",
    "\n",
    "    Parameters\n",
    "    ----------\n",
    "    irr : float\n",
    "        The irradiance given in [W/m^2].\n",
    "    area : float\n",
    "        The area given in [m^2].\n",
    "\n",
    "    Returns\n",
    "    -------\n",
    "    pwr : float\n",
    "        The resulting power given in [W].\n",
    "    \"\"\"\n",
    "    pwr = irr * area\n",
    "\n",
    "    return pwr"
   ]
  },
  {
   "cell_type": "code",
   "execution_count": 4,
   "metadata": {},
   "outputs": [],
   "source": [
    "# Function that converts the power given in [W] to energy given in [J]\n",
    "def pwr2enr(pwr, time):\n",
    "    \"\"\"\n",
    "    This function converts the power given in [W] to the corresponding energy\n",
    "    [J], depending on the input time given in [s]\n",
    "\n",
    "    Parameters\n",
    "    ----------\n",
    "    pwr : float\n",
    "        The power given in [W].\n",
    "    time : float\n",
    "        The time given in [s].\n",
    "\n",
    "    Returns\n",
    "    -------\n",
    "    enr : float\n",
    "        The energy given in [J].\n",
    "    \"\"\"\n",
    "\n",
    "    # Compute the energy\n",
    "    enr = pwr * time\n",
    "\n",
    "    # Return the energy\n",
    "    return enr"
   ]
  },
  {
   "cell_type": "code",
   "execution_count": 5,
   "metadata": {},
   "outputs": [
    {
     "name": "stdout",
     "output_type": "stream",
     "text": [
      "   magnitude  irradiance [W/m^2]  irradiance attn [W/m^2]\n",
      "0       -2.0        1.584893e-07             2.290868e-07\n",
      "1       -1.0        6.309573e-08             9.120108e-08\n",
      "2        0.0        2.511886e-08             3.630781e-08\n",
      "3        1.0        1.000000e-08             1.445440e-08\n",
      "4        2.0        3.981072e-09             5.754399e-09\n",
      "5        3.0        1.584893e-09             2.290868e-09\n",
      "6        4.0        6.309573e-10             9.120108e-10\n",
      "7        5.0        2.511886e-10             3.630781e-10\n",
      "8        6.0        1.000000e-10             1.445440e-10\n"
     ]
    }
   ],
   "source": [
    "# Set a magnitude range\n",
    "mag_range = np.arange(-2.0, 7.0, 1.0)\n",
    "\n",
    "# Fill the lookup table with the magnitudes\n",
    "mag_lookup_df.loc[:, 'magnitude'] = mag_range\n",
    "\n",
    "# Convert the magnitudes to irradiance\n",
    "mag_lookup_df.loc[:, 'irradiance [W/m^2]'] = \\\n",
    "    mag_lookup_df['magnitude'].apply(lambda x: mag2irr(x))\n",
    "\n",
    "# Convert the magnitudes to irradiance considering the atmospheric attenuation\n",
    "mag_lookup_df.loc[:, 'irradiance attn [W/m^2]'] = \\\n",
    "    mag_lookup_df['magnitude'].apply(lambda x: mag2irr(x, use_attn=True))\n",
    "\n",
    "# Print the resulting lookup table\n",
    "print(mag_lookup_df)"
   ]
  },
  {
   "cell_type": "code",
   "execution_count": 6,
   "metadata": {},
   "outputs": [],
   "source": [
    "# Save the lookup table as an excel sheet\n",
    "mag_lookup_df.to_excel('magnitude_lookup_table.xlsx')"
   ]
  }
 ],
 "metadata": {
  "kernelspec": {
   "display_name": "Python 3",
   "language": "python",
   "name": "python3"
  },
  "language_info": {
   "codemirror_mode": {
    "name": "ipython",
    "version": 3
   },
   "file_extension": ".py",
   "mimetype": "text/x-python",
   "name": "python",
   "nbconvert_exporter": "python",
   "pygments_lexer": "ipython3",
   "version": "3.8.2"
  }
 },
 "nbformat": 4,
 "nbformat_minor": 4
}
